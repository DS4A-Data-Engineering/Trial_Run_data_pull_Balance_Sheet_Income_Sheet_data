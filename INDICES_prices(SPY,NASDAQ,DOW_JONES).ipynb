{
 "cells": [
  {
   "cell_type": "code",
   "execution_count": 1,
   "id": "7cfb897b",
   "metadata": {},
   "outputs": [],
   "source": [
    "import pandas as pd\n",
    "import numpy as np\n",
    "import matplotlib.pyplot as plt\n",
    "import requests"
   ]
  },
  {
   "cell_type": "code",
   "execution_count": 4,
   "id": "4217783d",
   "metadata": {},
   "outputs": [],
   "source": [
    "#!pip install fmp_python\n",
    "import fmp_python"
   ]
  },
  {
   "cell_type": "code",
   "execution_count": 5,
   "id": "125c32e1",
   "metadata": {},
   "outputs": [],
   "source": [
    "def pull_request_index_price(index_ticker):\n",
    "    index_historical_prices = requests.get(f'https://financialmodelingprep.com/api/v3/historical-price-full/%5E{index_ticker}?apikey={fmp_api.api_key}').json()\n",
    "    #https://financialmodelingprep.com/api/v3/historical-price-full/%5EGSPC?apikey=c0cfe463556434293eb79f518436caca\n",
    "    return index_historical_prices"
   ]
  },
  {
   "cell_type": "markdown",
   "id": "74d610d9",
   "metadata": {},
   "source": [
    "## TICKER FOR EACH INDEX\n",
    "### DOW_JONES (DJI)\n",
    "### S&P 500 (GSPC)\n",
    "### NASDAQ (IXIC)\n",
    "### Russell 2000 Index (RUT)"
   ]
  },
  {
   "cell_type": "code",
   "execution_count": 6,
   "id": "5345245f",
   "metadata": {},
   "outputs": [],
   "source": [
    "big_indexes = ['DJI', 'GSPC', 'IXIC', 'RUT']"
   ]
  },
  {
   "cell_type": "code",
   "execution_count": 7,
   "id": "a74fa0c8",
   "metadata": {},
   "outputs": [
    {
     "ename": "NameError",
     "evalue": "name 'fmp_api' is not defined",
     "output_type": "error",
     "traceback": [
      "\u001b[0;31m---------------------------------------------------------------------------\u001b[0m",
      "\u001b[0;31mNameError\u001b[0m                                 Traceback (most recent call last)",
      "Cell \u001b[0;32mIn[7], line 1\u001b[0m\n\u001b[0;32m----> 1\u001b[0m pull_request_index_price(\u001b[39m'\u001b[39;49m\u001b[39mRUT\u001b[39;49m\u001b[39m'\u001b[39;49m)\n",
      "Cell \u001b[0;32mIn[5], line 2\u001b[0m, in \u001b[0;36mpull_request_index_price\u001b[0;34m(index_ticker)\u001b[0m\n\u001b[1;32m      1\u001b[0m \u001b[39mdef\u001b[39;00m \u001b[39mpull_request_index_price\u001b[39m(index_ticker):\n\u001b[0;32m----> 2\u001b[0m     index_historical_prices \u001b[39m=\u001b[39m requests\u001b[39m.\u001b[39mget(\u001b[39mf\u001b[39m\u001b[39m'\u001b[39m\u001b[39mhttps://financialmodelingprep.com/api/v3/historical-price-full/%5E\u001b[39m\u001b[39m{\u001b[39;00mindex_ticker\u001b[39m}\u001b[39;00m\u001b[39m?apikey=\u001b[39m\u001b[39m{\u001b[39;00mfmp_api\u001b[39m.\u001b[39mapi_key\u001b[39m}\u001b[39;00m\u001b[39m'\u001b[39m)\u001b[39m.\u001b[39mjson()\n\u001b[1;32m      3\u001b[0m     \u001b[39m#https://financialmodelingprep.com/api/v3/historical-price-full/%5EGSPC?apikey=c0cfe463556434293eb79f518436caca\u001b[39;00m\n\u001b[1;32m      4\u001b[0m     \u001b[39mreturn\u001b[39;00m index_historical_prices\n",
      "\u001b[0;31mNameError\u001b[0m: name 'fmp_api' is not defined"
     ]
    }
   ],
   "source": [
    "pull_request_index_price('RUT')"
   ]
  },
  {
   "cell_type": "code",
   "execution_count": 8,
   "id": "18399eb3",
   "metadata": {},
   "outputs": [],
   "source": [
    "def create_report_pull(index_list):\n",
    "    index_prices = []\n",
    "    for t in range(len(index_list)):\n",
    "        try:\n",
    "            index_prices.append(pull_request_index_price(index_list[t]))\n",
    "        except NameError:\n",
    "            print(\"Something else went wrong\")\n",
    "        df_index_data = pd.json_normalize(index_prices, 'historical', ['symbol'])\n",
    "        # shift column 'symbol' to first position\n",
    "        first_column = df_index_data.pop('symbol')\n",
    "        \n",
    "        # insert column using insert(position,column_name,first_column) function\n",
    "        df_index_data.insert(0, 'symbol', first_column)\n",
    "    return df_index_data"
   ]
  },
  {
   "cell_type": "code",
   "execution_count": 9,
   "id": "f1baf27b",
   "metadata": {},
   "outputs": [
    {
     "name": "stdout",
     "output_type": "stream",
     "text": [
      "Something else went wrong\n"
     ]
    },
    {
     "ename": "KeyError",
     "evalue": "'symbol'",
     "output_type": "error",
     "traceback": [
      "\u001b[0;31m---------------------------------------------------------------------------\u001b[0m",
      "\u001b[0;31mKeyError\u001b[0m                                  Traceback (most recent call last)",
      "Cell \u001b[0;32mIn[9], line 1\u001b[0m\n\u001b[0;32m----> 1\u001b[0m create_report_pull(big_indexes)\n",
      "Cell \u001b[0;32mIn[8], line 10\u001b[0m, in \u001b[0;36mcreate_report_pull\u001b[0;34m(index_list)\u001b[0m\n\u001b[1;32m      8\u001b[0m df_index_data \u001b[39m=\u001b[39m pd\u001b[39m.\u001b[39mjson_normalize(index_prices, \u001b[39m'\u001b[39m\u001b[39mhistorical\u001b[39m\u001b[39m'\u001b[39m, [\u001b[39m'\u001b[39m\u001b[39msymbol\u001b[39m\u001b[39m'\u001b[39m])\n\u001b[1;32m      9\u001b[0m \u001b[39m# shift column 'symbol' to first position\u001b[39;00m\n\u001b[0;32m---> 10\u001b[0m first_column \u001b[39m=\u001b[39m df_index_data\u001b[39m.\u001b[39;49mpop(\u001b[39m'\u001b[39;49m\u001b[39msymbol\u001b[39;49m\u001b[39m'\u001b[39;49m)\n\u001b[1;32m     12\u001b[0m \u001b[39m# insert column using insert(position,column_name,first_column) function\u001b[39;00m\n\u001b[1;32m     13\u001b[0m df_index_data\u001b[39m.\u001b[39minsert(\u001b[39m0\u001b[39m, \u001b[39m'\u001b[39m\u001b[39msymbol\u001b[39m\u001b[39m'\u001b[39m, first_column)\n",
      "File \u001b[0;32m~/.local/lib/python3.10/site-packages/pandas/core/frame.py:5543\u001b[0m, in \u001b[0;36mDataFrame.pop\u001b[0;34m(self, item)\u001b[0m\n\u001b[1;32m   5502\u001b[0m \u001b[39mdef\u001b[39;00m \u001b[39mpop\u001b[39m(\u001b[39mself\u001b[39m, item: Hashable) \u001b[39m-\u001b[39m\u001b[39m>\u001b[39m Series:\n\u001b[1;32m   5503\u001b[0m \u001b[39m    \u001b[39m\u001b[39m\"\"\"\u001b[39;00m\n\u001b[1;32m   5504\u001b[0m \u001b[39m    Return item and drop from frame. Raise KeyError if not found.\u001b[39;00m\n\u001b[1;32m   5505\u001b[0m \n\u001b[0;32m   (...)\u001b[0m\n\u001b[1;32m   5541\u001b[0m \u001b[39m    3  monkey        NaN\u001b[39;00m\n\u001b[1;32m   5542\u001b[0m \u001b[39m    \"\"\"\u001b[39;00m\n\u001b[0;32m-> 5543\u001b[0m     \u001b[39mreturn\u001b[39;00m \u001b[39msuper\u001b[39;49m()\u001b[39m.\u001b[39;49mpop(item\u001b[39m=\u001b[39;49mitem)\n",
      "File \u001b[0;32m~/.local/lib/python3.10/site-packages/pandas/core/generic.py:853\u001b[0m, in \u001b[0;36mNDFrame.pop\u001b[0;34m(self, item)\u001b[0m\n\u001b[1;32m    852\u001b[0m \u001b[39mdef\u001b[39;00m \u001b[39mpop\u001b[39m(\u001b[39mself\u001b[39m, item: Hashable) \u001b[39m-\u001b[39m\u001b[39m>\u001b[39m Series \u001b[39m|\u001b[39m Any:\n\u001b[0;32m--> 853\u001b[0m     result \u001b[39m=\u001b[39m \u001b[39mself\u001b[39;49m[item]\n\u001b[1;32m    854\u001b[0m     \u001b[39mdel\u001b[39;00m \u001b[39mself\u001b[39m[item]\n\u001b[1;32m    856\u001b[0m     \u001b[39mreturn\u001b[39;00m result\n",
      "File \u001b[0;32m~/.local/lib/python3.10/site-packages/pandas/core/frame.py:3761\u001b[0m, in \u001b[0;36mDataFrame.__getitem__\u001b[0;34m(self, key)\u001b[0m\n\u001b[1;32m   3759\u001b[0m \u001b[39mif\u001b[39;00m \u001b[39mself\u001b[39m\u001b[39m.\u001b[39mcolumns\u001b[39m.\u001b[39mnlevels \u001b[39m>\u001b[39m \u001b[39m1\u001b[39m:\n\u001b[1;32m   3760\u001b[0m     \u001b[39mreturn\u001b[39;00m \u001b[39mself\u001b[39m\u001b[39m.\u001b[39m_getitem_multilevel(key)\n\u001b[0;32m-> 3761\u001b[0m indexer \u001b[39m=\u001b[39m \u001b[39mself\u001b[39;49m\u001b[39m.\u001b[39;49mcolumns\u001b[39m.\u001b[39;49mget_loc(key)\n\u001b[1;32m   3762\u001b[0m \u001b[39mif\u001b[39;00m is_integer(indexer):\n\u001b[1;32m   3763\u001b[0m     indexer \u001b[39m=\u001b[39m [indexer]\n",
      "File \u001b[0;32m~/.local/lib/python3.10/site-packages/pandas/core/indexes/range.py:349\u001b[0m, in \u001b[0;36mRangeIndex.get_loc\u001b[0;34m(self, key)\u001b[0m\n\u001b[1;32m    347\u001b[0m         \u001b[39mraise\u001b[39;00m \u001b[39mKeyError\u001b[39;00m(key) \u001b[39mfrom\u001b[39;00m \u001b[39merr\u001b[39;00m\n\u001b[1;32m    348\u001b[0m \u001b[39mif\u001b[39;00m \u001b[39misinstance\u001b[39m(key, Hashable):\n\u001b[0;32m--> 349\u001b[0m     \u001b[39mraise\u001b[39;00m \u001b[39mKeyError\u001b[39;00m(key)\n\u001b[1;32m    350\u001b[0m \u001b[39mself\u001b[39m\u001b[39m.\u001b[39m_check_indexing_error(key)\n\u001b[1;32m    351\u001b[0m \u001b[39mraise\u001b[39;00m \u001b[39mKeyError\u001b[39;00m(key)\n",
      "\u001b[0;31mKeyError\u001b[0m: 'symbol'"
     ]
    }
   ],
   "source": [
    "create_report_pull(big_indexes) # To Do: rewrite function"
   ]
  },
  {
   "cell_type": "code",
   "execution_count": 10,
   "id": "f2e6f679",
   "metadata": {},
   "outputs": [
    {
     "name": "stdout",
     "output_type": "stream",
     "text": [
      "Something else went wrong\n"
     ]
    },
    {
     "ename": "KeyError",
     "evalue": "'symbol'",
     "output_type": "error",
     "traceback": [
      "\u001b[0;31m---------------------------------------------------------------------------\u001b[0m",
      "\u001b[0;31mKeyError\u001b[0m                                  Traceback (most recent call last)",
      "Cell \u001b[0;32mIn[10], line 1\u001b[0m\n\u001b[0;32m----> 1\u001b[0m df \u001b[39m=\u001b[39m create_report_pull(big_indexes)\n",
      "Cell \u001b[0;32mIn[8], line 10\u001b[0m, in \u001b[0;36mcreate_report_pull\u001b[0;34m(index_list)\u001b[0m\n\u001b[1;32m      8\u001b[0m df_index_data \u001b[39m=\u001b[39m pd\u001b[39m.\u001b[39mjson_normalize(index_prices, \u001b[39m'\u001b[39m\u001b[39mhistorical\u001b[39m\u001b[39m'\u001b[39m, [\u001b[39m'\u001b[39m\u001b[39msymbol\u001b[39m\u001b[39m'\u001b[39m])\n\u001b[1;32m      9\u001b[0m \u001b[39m# shift column 'symbol' to first position\u001b[39;00m\n\u001b[0;32m---> 10\u001b[0m first_column \u001b[39m=\u001b[39m df_index_data\u001b[39m.\u001b[39;49mpop(\u001b[39m'\u001b[39;49m\u001b[39msymbol\u001b[39;49m\u001b[39m'\u001b[39;49m)\n\u001b[1;32m     12\u001b[0m \u001b[39m# insert column using insert(position,column_name,first_column) function\u001b[39;00m\n\u001b[1;32m     13\u001b[0m df_index_data\u001b[39m.\u001b[39minsert(\u001b[39m0\u001b[39m, \u001b[39m'\u001b[39m\u001b[39msymbol\u001b[39m\u001b[39m'\u001b[39m, first_column)\n",
      "File \u001b[0;32m~/.local/lib/python3.10/site-packages/pandas/core/frame.py:5543\u001b[0m, in \u001b[0;36mDataFrame.pop\u001b[0;34m(self, item)\u001b[0m\n\u001b[1;32m   5502\u001b[0m \u001b[39mdef\u001b[39;00m \u001b[39mpop\u001b[39m(\u001b[39mself\u001b[39m, item: Hashable) \u001b[39m-\u001b[39m\u001b[39m>\u001b[39m Series:\n\u001b[1;32m   5503\u001b[0m \u001b[39m    \u001b[39m\u001b[39m\"\"\"\u001b[39;00m\n\u001b[1;32m   5504\u001b[0m \u001b[39m    Return item and drop from frame. Raise KeyError if not found.\u001b[39;00m\n\u001b[1;32m   5505\u001b[0m \n\u001b[0;32m   (...)\u001b[0m\n\u001b[1;32m   5541\u001b[0m \u001b[39m    3  monkey        NaN\u001b[39;00m\n\u001b[1;32m   5542\u001b[0m \u001b[39m    \"\"\"\u001b[39;00m\n\u001b[0;32m-> 5543\u001b[0m     \u001b[39mreturn\u001b[39;00m \u001b[39msuper\u001b[39;49m()\u001b[39m.\u001b[39;49mpop(item\u001b[39m=\u001b[39;49mitem)\n",
      "File \u001b[0;32m~/.local/lib/python3.10/site-packages/pandas/core/generic.py:853\u001b[0m, in \u001b[0;36mNDFrame.pop\u001b[0;34m(self, item)\u001b[0m\n\u001b[1;32m    852\u001b[0m \u001b[39mdef\u001b[39;00m \u001b[39mpop\u001b[39m(\u001b[39mself\u001b[39m, item: Hashable) \u001b[39m-\u001b[39m\u001b[39m>\u001b[39m Series \u001b[39m|\u001b[39m Any:\n\u001b[0;32m--> 853\u001b[0m     result \u001b[39m=\u001b[39m \u001b[39mself\u001b[39;49m[item]\n\u001b[1;32m    854\u001b[0m     \u001b[39mdel\u001b[39;00m \u001b[39mself\u001b[39m[item]\n\u001b[1;32m    856\u001b[0m     \u001b[39mreturn\u001b[39;00m result\n",
      "File \u001b[0;32m~/.local/lib/python3.10/site-packages/pandas/core/frame.py:3761\u001b[0m, in \u001b[0;36mDataFrame.__getitem__\u001b[0;34m(self, key)\u001b[0m\n\u001b[1;32m   3759\u001b[0m \u001b[39mif\u001b[39;00m \u001b[39mself\u001b[39m\u001b[39m.\u001b[39mcolumns\u001b[39m.\u001b[39mnlevels \u001b[39m>\u001b[39m \u001b[39m1\u001b[39m:\n\u001b[1;32m   3760\u001b[0m     \u001b[39mreturn\u001b[39;00m \u001b[39mself\u001b[39m\u001b[39m.\u001b[39m_getitem_multilevel(key)\n\u001b[0;32m-> 3761\u001b[0m indexer \u001b[39m=\u001b[39m \u001b[39mself\u001b[39;49m\u001b[39m.\u001b[39;49mcolumns\u001b[39m.\u001b[39;49mget_loc(key)\n\u001b[1;32m   3762\u001b[0m \u001b[39mif\u001b[39;00m is_integer(indexer):\n\u001b[1;32m   3763\u001b[0m     indexer \u001b[39m=\u001b[39m [indexer]\n",
      "File \u001b[0;32m~/.local/lib/python3.10/site-packages/pandas/core/indexes/range.py:349\u001b[0m, in \u001b[0;36mRangeIndex.get_loc\u001b[0;34m(self, key)\u001b[0m\n\u001b[1;32m    347\u001b[0m         \u001b[39mraise\u001b[39;00m \u001b[39mKeyError\u001b[39;00m(key) \u001b[39mfrom\u001b[39;00m \u001b[39merr\u001b[39;00m\n\u001b[1;32m    348\u001b[0m \u001b[39mif\u001b[39;00m \u001b[39misinstance\u001b[39m(key, Hashable):\n\u001b[0;32m--> 349\u001b[0m     \u001b[39mraise\u001b[39;00m \u001b[39mKeyError\u001b[39;00m(key)\n\u001b[1;32m    350\u001b[0m \u001b[39mself\u001b[39m\u001b[39m.\u001b[39m_check_indexing_error(key)\n\u001b[1;32m    351\u001b[0m \u001b[39mraise\u001b[39;00m \u001b[39mKeyError\u001b[39;00m(key)\n",
      "\u001b[0;31mKeyError\u001b[0m: 'symbol'"
     ]
    }
   ],
   "source": [
    "df = create_report_pull(big_indexes)"
   ]
  },
  {
   "cell_type": "code",
   "execution_count": 19,
   "id": "91fc0792",
   "metadata": {},
   "outputs": [],
   "source": [
    "df['full_date'] = pd.to_datetime(df['date'], errors='coerce')\n",
    "\n",
    "df['calendar_year'] = df['full_date'].dt.year"
   ]
  },
  {
   "cell_type": "code",
   "execution_count": 20,
   "id": "084e61d6",
   "metadata": {},
   "outputs": [],
   "source": [
    "index_price_data_2020 = df[df['calendar_year'] == 2020]"
   ]
  },
  {
   "cell_type": "code",
   "execution_count": 21,
   "id": "21e42c9f",
   "metadata": {},
   "outputs": [],
   "source": [
    "index_price_data_2020.to_csv('data/index_price_data_2020.csv', mode='w', index=False) #index is False as we don't want to write index in csv file"
   ]
  },
  {
   "cell_type": "code",
   "execution_count": null,
   "id": "2f741432",
   "metadata": {},
   "outputs": [],
   "source": []
  }
 ],
 "metadata": {
  "kernelspec": {
   "display_name": "Python 3 (ipykernel)",
   "language": "python",
   "name": "python3"
  },
  "language_info": {
   "codemirror_mode": {
    "name": "ipython",
    "version": 3
   },
   "file_extension": ".py",
   "mimetype": "text/x-python",
   "name": "python",
   "nbconvert_exporter": "python",
   "pygments_lexer": "ipython3",
   "version": "3.10.8"
  }
 },
 "nbformat": 4,
 "nbformat_minor": 5
}
